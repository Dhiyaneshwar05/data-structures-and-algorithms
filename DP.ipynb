{
 "cells": [
  {
   "attachments": {},
   "cell_type": "markdown",
   "metadata": {},
   "source": [
    "## DP \n",
    "\n",
    "1. those who dont remember the past -> has to redo the work again !\n",
    "2. use DP when : \n",
    "                - find possible ways (return lefttree + right tree) \n",
    "                - min steps (return min(lt, rt)  ??)\n",
    "                - max steps (\" max())??\n",
    "3. Step:\n",
    "        - id if its a DP pblm \n",
    "        - convert to 1D (more -likely) => so that u can play with indexes \n",
    "        - gen a rec relation \n",
    "        - rec code \n",
    "        - memoize it \n",
    "        - tabluar mtd for less space comp\n",
    "        - work furthur and observe to find the best soln "
   ]
  },
  {
   "cell_type": "code",
   "execution_count": 22,
   "metadata": {},
   "outputs": [
    {
     "name": "stdout",
     "output_type": "stream",
     "text": [
      "5\n",
      "55\n",
      "0\n"
     ]
    }
   ],
   "source": [
    "\"\"\"\n",
    "0,1,1,2,3,5,8,...\n",
    "0 1 2 3 4 5 6 \n",
    "\"\"\"\n",
    "def fib(n):\n",
    "    if n==0 or n==1:\n",
    "        return n\n",
    "    return fib(n-1)+fib(n-2)\n",
    "\n",
    "print(fib(5))\n",
    "print(fib(10))\n",
    "print(fib(0))"
   ]
  },
  {
   "cell_type": "code",
   "execution_count": 30,
   "metadata": {},
   "outputs": [
    {
     "name": "stdout",
     "output_type": "stream",
     "text": [
      "55\n"
     ]
    }
   ],
   "source": [
    "\"\"\"cov rec -> DP \n",
    "\n",
    "1. create a DP arr of size n and initialize to -1\n",
    "2. rec realtion -> arr and play with indexes \n",
    "3. on cal a value store in the dp and fetch from it for the next time \n",
    "\n",
    "\n",
    "\n",
    "\n",
    "TC - N\n",
    "SC - N +N (recursion stack)\"\"\"\n",
    "\n",
    "\n",
    "def fib_memo(n,dp):\n",
    "    if n==0 or n==1:\n",
    "        return n\n",
    "    if dp[n]!=-1:\n",
    "        return dp[n]\n",
    "    dp[n]=fib_memo(n-1,dp)+fib_memo(n-2,dp)\n",
    "    #print(dp)\n",
    "    return dp[n]\n",
    "\n",
    "if __name__==\"__main__\":\n",
    "    n=10\n",
    "    dp=[-1]*(n+1)\n",
    "    print(fib_memo(n,dp))"
   ]
  },
  {
   "cell_type": "code",
   "execution_count": 38,
   "metadata": {},
   "outputs": [
    {
     "name": "stdout",
     "output_type": "stream",
     "text": [
      "610\n"
     ]
    }
   ],
   "source": [
    "\"\"\"\n",
    "\"TABULATION = top -> bottom appr \"\n",
    "\n",
    "TC - N\n",
    "SC - N (no recursion stk used)\n",
    "\"\"\"\n",
    "def fib_tab(n,dp):\n",
    "    dp[0]=0\n",
    "    dp[1]=1\n",
    "    for i in range(2,n+1):\n",
    "        dp[i]=dp[i-1]+dp[i-2]\n",
    "    return dp[n] #can return whole dp arry if want \n",
    "if __name__==\"__main__\":\n",
    "    n=15\n",
    "    dp=[-1]*(n+1)\n",
    "    print(fib_tab(n,dp))\n"
   ]
  },
  {
   "cell_type": "markdown",
   "metadata": {},
   "source": [
    "FROG JUMP PBLM"
   ]
  },
  {
   "cell_type": "code",
   "execution_count": 3,
   "metadata": {},
   "outputs": [
    {
     "name": "stdout",
     "output_type": "stream",
     "text": [
      "1 3 1000000 [7, 4, 4, 2, 6, 6, 3, 4] [0, 3, -1, -1, -1, -1, -1, -1]\n",
      "2 3 3 [7, 4, 4, 2, 6, 6, 3, 4] [0, 3, 3, -1, -1, -1, -1, -1]\n",
      "3 5 5 [7, 4, 4, 2, 6, 6, 3, 4] [0, 3, 3, 5, -1, -1, -1, -1]\n",
      "4 9 5 [7, 4, 4, 2, 6, 6, 3, 4] [0, 3, 3, 5, 5, -1, -1, -1]\n",
      "5 5 9 [7, 4, 4, 2, 6, 6, 3, 4] [0, 3, 3, 5, 5, 5, -1, -1]\n",
      "6 8 8 [7, 4, 4, 2, 6, 6, 3, 4] [0, 3, 3, 5, 5, 5, 8, -1]\n",
      "min energy- 8\n"
     ]
    }
   ],
   "source": [
    "def frog_jump_tab(n,energy,dp):\n",
    "    #base -> top \n",
    "    dp[0]=0#energy from 0th step -> 0 is 0\n",
    "    for i in range(1,n):\n",
    "        os=dp[i-1]+abs(energy[i]-energy[i-1])\n",
    "        if i>1:\n",
    "            ss=dp[i-2]+abs(energy[i]-energy[i-2])\n",
    "        else:\n",
    "            ss=1000000\n",
    "        dp[i]=min(os,ss)\n",
    "        \n",
    "        print(i,os,ss,energy,dp)\n",
    "    return dp[n-1]\n",
    "    \n",
    "if __name__==\"__main__\":\n",
    "    energy=[7,4,4,2,6,6,3,4]\n",
    "    n=8\n",
    "    dp=[-1]*(n) #[-1,-1,-1,-1,-1,-1,-1,-1,-1]\n",
    "    print(\"min energy-\",frog_jump_tab(n-1,energy,dp))"
   ]
  },
  {
   "cell_type": "code",
   "execution_count": 4,
   "metadata": {},
   "outputs": [
    {
     "name": "stdout",
     "output_type": "stream",
     "text": [
      "min energy- 7\n"
     ]
    }
   ],
   "source": [
    "\n",
    "def frog_jump_memo(n,energy,dp):\n",
    "    if n==0:\n",
    "        return 0\n",
    "    if dp[n]!=-1:\n",
    "        return dp[n]\n",
    "    lt=frog_jump_memo(n-1,energy,dp)+abs(energy[n]-energy[n-1])\n",
    "    if n>1: rt=frog_jump_memo(n-2,energy,dp)+abs(energy[n]-energy[n-2])\n",
    "    else: rt=1000000\n",
    "    \n",
    "    dp[n]=min(lt,rt)\n",
    "    \n",
    "    return dp[n]\n",
    "\n",
    "if __name__==\"__main__\":\n",
    "    energy=[7,4,4,2,6,6,3,4]\n",
    "    n=8\n",
    "    dp=[-1]*(n+1) #[-1,-1,-1,-1,-1,-1,-1,-1,-1,-1]\n",
    "    print(\"min energy-\",frog_jump_memo(n-1,energy,dp))"
   ]
  },
  {
   "cell_type": "code",
   "execution_count": 5,
   "metadata": {},
   "outputs": [
    {
     "name": "stdout",
     "output_type": "stream",
     "text": [
      "min energy- 7\n"
     ]
    }
   ],
   "source": [
    "#1-> nth step is same as 0-> n-1 step (important conversion)\n",
    "def frog_jump_rec(n,energy):\n",
    "    if n==0:\n",
    "        return 0\n",
    "    lt=frog_jump_rec(n-1,energy)+abs(energy[n]-energy[n-1])\n",
    "    if n>1: rt=frog_jump_rec(n-2,energy)+abs(energy[n]-energy[n-2])\n",
    "    else: rt=10000000\n",
    "    return min(lt,rt)\n",
    "    \n",
    "print(\"min energy-\",frog_jump_rec(7,[7,4,4,2,6,6,3,4]))"
   ]
  },
  {
   "cell_type": "code",
   "execution_count": 6,
   "metadata": {},
   "outputs": [
    {
     "name": "stdout",
     "output_type": "stream",
     "text": [
      "7\n"
     ]
    }
   ],
   "source": [
    "#1. what u need to return \n",
    "def frog_jump_opt(energy):\n",
    "    n=len(energy)\n",
    "    prev1=0#prev1 gives the min energy req to reach the 1 previos step\n",
    "    prev2=0#gives the min energy req to reach the 2nd previos step \n",
    "    for i in range(1,n):\n",
    "        os=prev1+abs(energy[i]-energy[i-1])\n",
    "        if i>1: ss=prev2+abs(energy[i]-energy[i-2])\n",
    "        else: ss=1000000\n",
    "        curr=min(os,ss)#current gives the min energy req to reach this ith step \n",
    "        prev2=prev1\n",
    "        prev1=curr\n",
    "    return prev1 #as after cal the req val curr is given to prev1 can even return curr if the looping is on point !\n",
    "        \n",
    "print(frog_jump_opt([7,4,4,2,6,6,3,4]))"
   ]
  },
  {
   "cell_type": "markdown",
   "metadata": {},
   "source": [
    "## 2D - DP \n",
    "\n",
    "1. Ninja's technique pblm -> https://takeuforward.org/data-structure/dynamic-programming-ninjas-training-dp-7/\n",
    "\n",
    "    * index + add params (what u sleected on prev index{prev-day})\n",
    "    * do stuff \n",
    "    * max \n",
    "\n",
    "    * * <,insert pic of hand notes>"
   ]
  },
  {
   "cell_type": "code",
   "execution_count": 12,
   "metadata": {},
   "outputs": [
    {
     "name": "stdout",
     "output_type": "stream",
     "text": [
      "25\n"
     ]
    }
   ],
   "source": [
    "#recursion appr (we are follwing down-> up appr for recursion [n-1 to 0])\n",
    "\n",
    "#base case - when reached day 0 -ie day 0 then the max of 2 task which are not selected on the prev day \n",
    "\n",
    "def rec_ninja(day,last): #3,3\n",
    "    \n",
    "    #base - contd\n",
    "    if day==0:\n",
    "        max_val=0\n",
    "        for task_index in range(3):\n",
    "            if task_index!=last:#0 X, 1 \n",
    "                max_val=max(points[0][task_index],max_val)\n",
    "        return max_val\n",
    "    else:#d-3, l-3 \n",
    "        max_val=0\n",
    "        for task_index in range(3):#0,1,2\n",
    "            if task_index!=last:\n",
    "                #points for that activity + activity points after that to the end \n",
    "                activity=points[day][task_index]+rec_ninja(day-1,task_index) #means for this activity iam taking that points and calling rec func to cal the next cycle after it \n",
    "                max_val=max(max_val,activity) #lets take f(2,0) -> d-2, l-0 this will call => f(1,1), f(1,2),, lets take f(1,1) this will call f(0,0) and f (0,2) this mets base contd and f(0,0) -> \n",
    "            \n",
    "        return max_val\n",
    "\n",
    "\n",
    "if __name__==\"__main__\":\n",
    "    points=[[2,1,3],\n",
    "            [3,4,6],\n",
    "            [10,1,6],\n",
    "            [8,3,7]]\n",
    "    days=len(points)#4\n",
    "    res=rec_ninja(days-1,3)#as 3 refers no task performed on prev day\n",
    "    print(res)"
   ]
  },
  {
   "cell_type": "code",
   "execution_count": 35,
   "metadata": {},
   "outputs": [
    {
     "name": "stdout",
     "output_type": "stream",
     "text": [
      "25\n",
      "[[-1, -1, -1, 25], [-1, -1, -1, 25], [-1, -1, -1, 25], [-1, -1, -1, 25]]\n"
     ]
    }
   ],
   "source": [
    "def ninja_memo(day,last,dp):\n",
    "    #base - contd\n",
    "    if day==0:\n",
    "        max_val=0\n",
    "        for task_index in range(3):\n",
    "            if task_index!=last:#0 X, 1 \n",
    "                max_val=max(points[0][task_index],max_val)\n",
    "        return max_val\n",
    "    \n",
    "    #chk 1st present \n",
    "    if dp[day][last]!=-1:\n",
    "        return dp[day][last]\n",
    "    \n",
    "    else:#d-3, l-3 \n",
    "        max_val=0\n",
    "        for task_index in range(3):#0,1,2\n",
    "            if task_index!=last:\n",
    "                activity=points[day][task_index]+rec_ninja(day-1,task_index) #means for this activity iam taking that points and calling rec func to cal the next cycle after it \n",
    "                max_val=max(max_val,activity) #lets take f(2,0) -> d-2, l-0 this will call => f(1,1), f(1,2),, lets take f(1,1) this will call f(0,0) and f (0,2) this mets base contd and f(0,0) -> \n",
    "            \n",
    "        dp[day][last]=max_val   \n",
    "        print(dp[day][last])\n",
    "        return dp\n",
    "\n",
    "if __name__==\"__main__\":\n",
    "    #days -> {0,len(points)-1}\n",
    "    #last -> {0,1,2,3}\n",
    "    #-1 2D arr of days X last_option\n",
    "    points=[[2,1,3],\n",
    "            [3,4,6],\n",
    "            [10,1,6],\n",
    "            [8,3,7]]\n",
    "    days=len(points)#4\n",
    "    dp=[[-1]*4]*days\n",
    "    res=ninja_memo(days-1,3,dp)    \n",
    "    print(res)\n",
    "    "
   ]
  },
  {
   "cell_type": "code",
   "execution_count": null,
   "metadata": {},
   "outputs": [],
   "source": [
    "# 2params changing -> days , last \n",
    "def memo_ninja()"
   ]
  },
  {
   "cell_type": "code",
   "execution_count": 27,
   "metadata": {},
   "outputs": [
    {
     "name": "stdout",
     "output_type": "stream",
     "text": [
      "[[3, -1, 2, -1], [-1, 8, -1, -1], [-1, -1, -1, -1], [-1, -1, -1, -1]]\n",
      "[[3, 3, 2, -1], [-1, 8, 7, -1], [-1, -1, -1, -1], [-1, -1, -1, -1]]\n",
      "[[3, 3, 2, -1], [-1, 8, 7, -1], [13, -1, -1, -1], [-1, -1, -1, -1]]\n",
      "[[3, 3, 2, -1], [8, 8, 7, -1], [13, -1, -1, -1], [-1, -1, -1, -1]]\n",
      "[[3, 3, 2, -1], [8, 8, 7, -1], [13, 18, -1, -1], [-1, -1, -1, -1]]\n",
      "[[3, 3, 2, -1], [8, 8, 7, -1], [13, 18, 18, -1], [-1, -1, -1, -1]]\n",
      "[[3, 3, 2, -1], [8, 8, 7, -1], [13, 18, 18, -1], [-1, -1, -1, 25]]\n",
      "25\n"
     ]
    }
   ],
   "source": [
    "#from striver - SEE THIS RETURNS THE CORRECT ARRAY AS DP WHOLE -> WHERAEAS I GET CORRECT ANWER BUT NOT THE WHOLE DP CORRECT ????\n",
    "def f(day, last, points, dp):\n",
    "    # Check if the result for this day and last activity is already computed.\n",
    "    if dp[day][last] != -1:\n",
    "        return dp[day][last]\n",
    "\n",
    "    # Base case: When we reach day 0, return the maximum point for the last day.\n",
    "    if day == 0:\n",
    "        maxi = 0\n",
    "        for i in range(3):\n",
    "            if i != last:\n",
    "                maxi = max(maxi, points[0][i])\n",
    "        dp[day][last] = maxi\n",
    "        return dp[day][last]\n",
    "\n",
    "    maxi = 0\n",
    "    # Iterate through all activities for the current day.\n",
    "    for i in range(3):\n",
    "        if i != last:\n",
    "            # Calculate the total points for the current day's activity and recursively call for the previous day.\n",
    "            activity = points[day][i] + f(day - 1, i, points, dp)\n",
    "            maxi = max(maxi, activity)\n",
    "\n",
    "    # Store the maximum points in the DP table and return it.\n",
    "    dp[day][last] = maxi\n",
    "    print(dp)\n",
    "    return dp[day][last]\n",
    "\n",
    "def ninjaTraining(n, points):\n",
    "    # Initialize a DP table to store the computed results.\n",
    "    dp = [[-1 for j in range(4)] for i in range(n)]\n",
    "    # Start the recursive function from the last day with no previous activity.\n",
    "    return f(n - 1, 3, points, dp)\n",
    "\n",
    "def main():\n",
    "    # Define the points matrix for each day.\n",
    "    points=[[2,1,3],\n",
    "            [3,4,6],\n",
    "            [10,1,6],\n",
    "            [8,3,7]]\n",
    "\n",
    "    n = len(points)  # Get the number of days.\n",
    "    # Call the ninjaTraining function to find the maximum points.\n",
    "    print(ninjaTraining(n, points))\n",
    "\n",
    "if __name__ == '__main__':\n",
    "    main()\n"
   ]
  },
  {
   "cell_type": "code",
   "execution_count": null,
   "metadata": {},
   "outputs": [],
   "source": []
  }
 ],
 "metadata": {
  "kernelspec": {
   "display_name": "base",
   "language": "python",
   "name": "python3"
  },
  "language_info": {
   "codemirror_mode": {
    "name": "ipython",
    "version": 3
   },
   "file_extension": ".py",
   "mimetype": "text/x-python",
   "name": "python",
   "nbconvert_exporter": "python",
   "pygments_lexer": "ipython3",
   "version": "3.12.0"
  },
  "orig_nbformat": 4
 },
 "nbformat": 4,
 "nbformat_minor": 2
}
