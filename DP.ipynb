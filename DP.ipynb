{
 "cells": [
  {
   "attachments": {},
   "cell_type": "markdown",
   "metadata": {},
   "source": [
    "## DP \n",
    "\n",
    "1. those who dont remember the past -> has to redo the work again !\n",
    "2. use DP when : \n",
    "                - find possible ways (return lefttree + right tree) \n",
    "                - min steps (return min(lt, rt)  ??)\n",
    "                - max steps (\" max())??\n",
    "3. Step:\n",
    "        - id if its a DP pblm \n",
    "        - convert to 1D (more -likely) => so that u can play with indexes \n",
    "        - gen a rec relation \n",
    "        - rec code \n",
    "        - memoize it \n",
    "        - tabluar mtd for less space comp\n",
    "        - work furthur and observe to find the best soln "
   ]
  },
  {
   "cell_type": "code",
   "execution_count": 22,
   "metadata": {},
   "outputs": [
    {
     "name": "stdout",
     "output_type": "stream",
     "text": [
      "5\n",
      "55\n",
      "0\n"
     ]
    }
   ],
   "source": [
    "\"\"\"\n",
    "0,1,1,2,3,5,8,...\n",
    "0 1 2 3 4 5 6 \n",
    "\"\"\"\n",
    "def fib(n):\n",
    "    if n==0 or n==1:\n",
    "        return n\n",
    "    return fib(n-1)+fib(n-2)\n",
    "\n",
    "print(fib(5))\n",
    "print(fib(10))\n",
    "print(fib(0))"
   ]
  },
  {
   "cell_type": "code",
   "execution_count": 30,
   "metadata": {},
   "outputs": [
    {
     "name": "stdout",
     "output_type": "stream",
     "text": [
      "55\n"
     ]
    }
   ],
   "source": [
    "\"\"\"cov rec -> DP \n",
    "\n",
    "1. create a DP arr of size n and initialize to -1\n",
    "2. rec realtion -> arr and play with indexes \n",
    "3. on cal a value store in the dp and fetch from it for the next time \n",
    "\n",
    "\n",
    "\n",
    "\n",
    "TC - N\n",
    "SC - N +N (recursion stack)\"\"\"\n",
    "\n",
    "\n",
    "def fib_memo(n,dp):\n",
    "    if n==0 or n==1:\n",
    "        return n\n",
    "    if dp[n]!=-1:\n",
    "        return dp[n]\n",
    "    dp[n]=fib_memo(n-1,dp)+fib_memo(n-2,dp)\n",
    "    #print(dp)\n",
    "    return dp[n]\n",
    "\n",
    "if __name__==\"__main__\":\n",
    "    n=10\n",
    "    dp=[-1]*(n+1)\n",
    "    print(fib_memo(n,dp))"
   ]
  },
  {
   "cell_type": "code",
   "execution_count": 38,
   "metadata": {},
   "outputs": [
    {
     "name": "stdout",
     "output_type": "stream",
     "text": [
      "610\n"
     ]
    }
   ],
   "source": [
    "\"\"\"\n",
    "\"TABULATION = top -> bottom appr \"\n",
    "\n",
    "TC - N\n",
    "SC - N (no recursion stk used)\n",
    "\"\"\"\n",
    "def fib_tab(n,dp):\n",
    "    dp[0]=0\n",
    "    dp[1]=1\n",
    "    for i in range(2,n+1):\n",
    "        dp[i]=dp[i-1]+dp[i-2]\n",
    "    return dp[n] #can return whole dp arry if want \n",
    "if __name__==\"__main__\":\n",
    "    n=15\n",
    "    dp=[-1]*(n+1)\n",
    "    print(fib_tab(n,dp))\n"
   ]
  },
  {
   "cell_type": "code",
   "execution_count": null,
   "metadata": {},
   "outputs": [],
   "source": []
  }
 ],
 "metadata": {
  "kernelspec": {
   "display_name": "base",
   "language": "python",
   "name": "python3"
  },
  "language_info": {
   "codemirror_mode": {
    "name": "ipython",
    "version": 3
   },
   "file_extension": ".py",
   "mimetype": "text/x-python",
   "name": "python",
   "nbconvert_exporter": "python",
   "pygments_lexer": "ipython3",
   "version": "3.9.7"
  },
  "orig_nbformat": 4
 },
 "nbformat": 4,
 "nbformat_minor": 2
}
