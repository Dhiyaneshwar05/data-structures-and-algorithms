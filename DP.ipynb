{
 "cells": [
  {
   "attachments": {},
   "cell_type": "markdown",
   "metadata": {},
   "source": [
    "## DP \n",
    "\n",
    "1. those who dont remember the past -> has to redo the work again !\n",
    "2. use DP when : \n",
    "                - find possible ways (return lefttree + right tree) \n",
    "                - min steps (return min(lt, rt)  ??)\n",
    "                - max steps (\" max())??\n",
    "3. Step:\n",
    "        - id if its a DP pblm \n",
    "        - convert to 1D (more -likely) => so that u can play with indexes \n",
    "        - gen a rec relation \n",
    "        - rec code \n",
    "        - memoize it \n",
    "        - tabluar mtd for less space comp\n",
    "        - work furthur and observe to find the best soln "
   ]
  },
  {
   "cell_type": "code",
   "execution_count": 22,
   "metadata": {},
   "outputs": [
    {
     "name": "stdout",
     "output_type": "stream",
     "text": [
      "5\n",
      "55\n",
      "0\n"
     ]
    }
   ],
   "source": [
    "\"\"\"\n",
    "0,1,1,2,3,5,8,...\n",
    "0 1 2 3 4 5 6 \n",
    "\"\"\"\n",
    "def fib(n):\n",
    "    if n==0 or n==1:\n",
    "        return n\n",
    "    return fib(n-1)+fib(n-2)\n",
    "\n",
    "print(fib(5))\n",
    "print(fib(10))\n",
    "print(fib(0))"
   ]
  },
  {
   "cell_type": "code",
   "execution_count": 30,
   "metadata": {},
   "outputs": [
    {
     "name": "stdout",
     "output_type": "stream",
     "text": [
      "55\n"
     ]
    }
   ],
   "source": [
    "\"\"\"cov rec -> DP \n",
    "\n",
    "1. create a DP arr of size n and initialize to -1\n",
    "2. rec realtion -> arr and play with indexes \n",
    "3. on cal a value store in the dp and fetch from it for the next time \n",
    "\n",
    "\n",
    "\n",
    "\n",
    "TC - N\n",
    "SC - N +N (recursion stack)\"\"\"\n",
    "\n",
    "\n",
    "def fib_memo(n,dp):\n",
    "    if n==0 or n==1:\n",
    "        return n\n",
    "    if dp[n]!=-1:\n",
    "        return dp[n]\n",
    "    dp[n]=fib_memo(n-1,dp)+fib_memo(n-2,dp)\n",
    "    #print(dp)\n",
    "    return dp[n]\n",
    "\n",
    "if __name__==\"__main__\":\n",
    "    n=10\n",
    "    dp=[-1]*(n+1)\n",
    "    print(fib_memo(n,dp))"
   ]
  },
  {
   "cell_type": "code",
   "execution_count": 38,
   "metadata": {},
   "outputs": [
    {
     "name": "stdout",
     "output_type": "stream",
     "text": [
      "610\n"
     ]
    }
   ],
   "source": [
    "\"\"\"\n",
    "\"TABULATION = top -> bottom appr \"\n",
    "\n",
    "TC - N\n",
    "SC - N (no recursion stk used)\n",
    "\"\"\"\n",
    "def fib_tab(n,dp):\n",
    "    dp[0]=0\n",
    "    dp[1]=1\n",
    "    for i in range(2,n+1):\n",
    "        dp[i]=dp[i-1]+dp[i-2]\n",
    "    return dp[n] #can return whole dp arry if want \n",
    "if __name__==\"__main__\":\n",
    "    n=15\n",
    "    dp=[-1]*(n+1)\n",
    "    print(fib_tab(n,dp))\n"
   ]
  },
  {
   "cell_type": "markdown",
   "metadata": {},
   "source": [
    "FROG JUMP PBLM"
   ]
  },
  {
   "cell_type": "code",
   "execution_count": 3,
   "metadata": {},
   "outputs": [
    {
     "name": "stdout",
     "output_type": "stream",
     "text": [
      "1 3 1000000 [7, 4, 4, 2, 6, 6, 3, 4] [0, 3, -1, -1, -1, -1, -1, -1]\n",
      "2 3 3 [7, 4, 4, 2, 6, 6, 3, 4] [0, 3, 3, -1, -1, -1, -1, -1]\n",
      "3 5 5 [7, 4, 4, 2, 6, 6, 3, 4] [0, 3, 3, 5, -1, -1, -1, -1]\n",
      "4 9 5 [7, 4, 4, 2, 6, 6, 3, 4] [0, 3, 3, 5, 5, -1, -1, -1]\n",
      "5 5 9 [7, 4, 4, 2, 6, 6, 3, 4] [0, 3, 3, 5, 5, 5, -1, -1]\n",
      "6 8 8 [7, 4, 4, 2, 6, 6, 3, 4] [0, 3, 3, 5, 5, 5, 8, -1]\n",
      "min energy- 8\n"
     ]
    }
   ],
   "source": [
    "def frog_jump_tab(n,energy,dp):\n",
    "    #base -> top \n",
    "    dp[0]=0#energy from 0th step -> 0 is 0\n",
    "    for i in range(1,n):\n",
    "        os=dp[i-1]+abs(energy[i]-energy[i-1])\n",
    "        if i>1:\n",
    "            ss=dp[i-2]+abs(energy[i]-energy[i-2])\n",
    "        else:\n",
    "            ss=1000000\n",
    "        dp[i]=min(os,ss)\n",
    "        \n",
    "        print(i,os,ss,energy,dp)\n",
    "    return dp[n-1]\n",
    "    \n",
    "if __name__==\"__main__\":\n",
    "    energy=[7,4,4,2,6,6,3,4]\n",
    "    n=8\n",
    "    dp=[-1]*(n) #[-1,-1,-1,-1,-1,-1,-1,-1,-1]\n",
    "    print(\"min energy-\",frog_jump_tab(n-1,energy,dp))"
   ]
  },
  {
   "cell_type": "code",
   "execution_count": 4,
   "metadata": {},
   "outputs": [
    {
     "name": "stdout",
     "output_type": "stream",
     "text": [
      "min energy- 7\n"
     ]
    }
   ],
   "source": [
    "\n",
    "def frog_jump_memo(n,energy,dp):\n",
    "    if n==0:\n",
    "        return 0\n",
    "    if dp[n]!=-1:\n",
    "        return dp[n]\n",
    "    lt=frog_jump_memo(n-1,energy,dp)+abs(energy[n]-energy[n-1])\n",
    "    if n>1: rt=frog_jump_memo(n-2,energy,dp)+abs(energy[n]-energy[n-2])\n",
    "    else: rt=1000000\n",
    "    \n",
    "    dp[n]=min(lt,rt)\n",
    "    \n",
    "    return dp[n]\n",
    "\n",
    "if __name__==\"__main__\":\n",
    "    energy=[7,4,4,2,6,6,3,4]\n",
    "    n=8\n",
    "    dp=[-1]*(n+1) #[-1,-1,-1,-1,-1,-1,-1,-1,-1,-1]\n",
    "    print(\"min energy-\",frog_jump_memo(n-1,energy,dp))"
   ]
  },
  {
   "cell_type": "code",
   "execution_count": 5,
   "metadata": {},
   "outputs": [
    {
     "name": "stdout",
     "output_type": "stream",
     "text": [
      "min energy- 7\n"
     ]
    }
   ],
   "source": [
    "#1-> nth step is same as 0-> n-1 step (important conversion)\n",
    "def frog_jump_rec(n,energy):\n",
    "    if n==0:\n",
    "        return 0\n",
    "    lt=frog_jump_rec(n-1,energy)+abs(energy[n]-energy[n-1])\n",
    "    if n>1: rt=frog_jump_rec(n-2,energy)+abs(energy[n]-energy[n-2])\n",
    "    else: rt=10000000\n",
    "    return min(lt,rt)\n",
    "    \n",
    "print(\"min energy-\",frog_jump_rec(7,[7,4,4,2,6,6,3,4]))"
   ]
  },
  {
   "cell_type": "code",
   "execution_count": 6,
   "metadata": {},
   "outputs": [
    {
     "name": "stdout",
     "output_type": "stream",
     "text": [
      "7\n"
     ]
    }
   ],
   "source": [
    "#1. what u need to return \n",
    "def frog_jump_opt(energy):\n",
    "    n=len(energy)\n",
    "    prev1=0#prev1 gives the min energy req to reach the 1 previos step\n",
    "    prev2=0#gives the min energy req to reach the 2nd previos step \n",
    "    for i in range(1,n):\n",
    "        os=prev1+abs(energy[i]-energy[i-1])\n",
    "        if i>1: ss=prev2+abs(energy[i]-energy[i-2])\n",
    "        else: ss=1000000\n",
    "        curr=min(os,ss)#current gives the min energy req to reach this ith step \n",
    "        prev2=prev1\n",
    "        prev1=curr\n",
    "    return prev1 #as after cal the req val curr is given to prev1 can even return curr if the looping is on point !\n",
    "        \n",
    "print(frog_jump_opt([7,4,4,2,6,6,3,4]))"
   ]
  }
 ],
 "metadata": {
  "kernelspec": {
   "display_name": "base",
   "language": "python",
   "name": "python3"
  },
  "language_info": {
   "codemirror_mode": {
    "name": "ipython",
    "version": 3
   },
   "file_extension": ".py",
   "mimetype": "text/x-python",
   "name": "python",
   "nbconvert_exporter": "python",
   "pygments_lexer": "ipython3",
   "version": "3.12.0"
  },
  "orig_nbformat": 4
 },
 "nbformat": 4,
 "nbformat_minor": 2
}
